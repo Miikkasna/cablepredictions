{
 "cells": [
  {
   "cell_type": "code",
   "execution_count": 1,
   "metadata": {},
   "outputs": [
    {
     "name": "stdout",
     "output_type": "stream",
     "text": [
      "Database connection ok\n"
     ]
    }
   ],
   "source": [
    "import pyodbc\n",
    "from meyerDB import cable_connection\n",
    "import matplotlib.pyplot as plt\n",
    "import numpy as np\n",
    "from IPython.display import HTML, display\n",
    "from sklearn.model_selection import train_test_split\n",
    "from sklearn.model_selection import cross_val_score\n",
    "from sklearn.model_selection import LeavePOut\n",
    "from sklearn.metrics import mean_absolute_percentage_error as mape\n",
    "from sklearn.metrics import mean_absolute_error as mae\n",
    "from sklearn import linear_model\n",
    "from sklearn.neighbors import KNeighborsRegressor\n",
    "from sklearn.dummy import DummyRegressor\n",
    "import sklearn.preprocessing as pp\n",
    "\n",
    "# init db connection\n",
    "conn = pyodbc.connect(cable_connection)\n",
    "cursor = conn.cursor()\n",
    "print('Database connection ok')\n",
    "\n",
    "def display_table(data):\n",
    "    html = \"<table>\"\n",
    "    for row in data:\n",
    "        html += \"<tr>\"\n",
    "        for field in row:\n",
    "            try:\n",
    "                value = str(round(100*field, 1)).replace('.', ',') + '%'\n",
    "            except:\n",
    "                value = field\n",
    "            html += \"<td><h4>%s</h4><td>\"%(value)\n",
    "        html += \"</tr>\"\n",
    "    html += \"</table>\"\n",
    "    display(HTML(html))"
   ]
  }
 ],
 "metadata": {
  "interpreter": {
   "hash": "c0b19f2120ef3124c13ef286ebe522ac06f45b032087a286eca843495c1a56b0"
  },
  "kernelspec": {
   "display_name": "Python 3.9.4 64-bit (system)",
   "name": "python3"
  },
  "language_info": {
   "codemirror_mode": {
    "name": "ipython",
    "version": 3
   },
   "file_extension": ".py",
   "mimetype": "text/x-python",
   "name": "python",
   "nbconvert_exporter": "python",
   "pygments_lexer": "ipython3",
   "version": "3.9.4"
  },
  "orig_nbformat": 4
 },
 "nbformat": 4,
 "nbformat_minor": 2
}
