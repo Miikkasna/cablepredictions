{
 "cells": [
  {
   "cell_type": "code",
   "execution_count": 14,
   "metadata": {},
   "outputs": [
    {
     "name": "stdout",
     "output_type": "stream",
     "text": [
      "Database connection ok\n"
     ]
    }
   ],
   "source": [
    "import pyodbc\n",
    "from meyerDB import cable_connection\n",
    "import PyQt5\n",
    "import matplotlib.pyplot as plt\n",
    "%matplotlib qt\n",
    "import numpy as np\n",
    "from IPython.display import HTML, display, clear_output\n",
    "\n",
    "from sklearn.model_selection import train_test_split\n",
    "from sklearn.model_selection import cross_val_score\n",
    "from sklearn.model_selection import LeavePOut\n",
    "from sklearn.metrics import mean_absolute_percentage_error as mape\n",
    "from sklearn.metrics import mean_absolute_error as mae\n",
    "from sklearn import linear_model\n",
    "from sklearn.neighbors import KNeighborsRegressor\n",
    "from sklearn.dummy import DummyRegressor\n",
    "import sklearn.preprocessing as pp\n",
    "from scipy.optimize import curve_fit\n",
    " \n",
    "\n",
    "# init db connection\n",
    "conn = pyodbc.connect(cable_connection)\n",
    "cursor = conn.cursor()\n",
    "print('Database connection ok')\n",
    "\n",
    "def display_table(data):\n",
    "    html = \"<table>\"\n",
    "    for row in data:\n",
    "        html += \"<tr>\"\n",
    "        for field in row:\n",
    "            try:\n",
    "                value = str(round(100*field, 1)).replace('.', ',') + '%'\n",
    "            except:\n",
    "                value = field\n",
    "            html += \"<td><h4>%s</h4><td>\"%(value)\n",
    "        html += \"</tr>\"\n",
    "    html += \"</table>\"\n",
    "    display(HTML(html))\n",
    "\n",
    "def logifunc(x,x0,k,l, A):\n",
    "    #l = 2300\n",
    "    return l / (1 + A*np.exp(-k*(x - x0)))"
   ]
  },
  {
   "cell_type": "code",
   "execution_count": 20,
   "metadata": {},
   "outputs": [
    {
     "name": "stderr",
     "output_type": "stream",
     "text": [
      "C:\\Users\\sainmi53\\AppData\\Local\\Programs\\Python\\Python39\\lib\\site-packages\\scipy\\optimize\\minpack.py:828: OptimizeWarning: Covariance of the parameters could not be estimated\n",
      "  warnings.warn('Covariance of the parameters could not be estimated',\n"
     ]
    }
   ],
   "source": [
    "# Design progress\n",
    "# Predictors:\n",
    "# Time series\n",
    "# Algorithms:\n",
    "# S-curve fitting\n",
    "\n",
    "\n",
    "plt.rcParams['font.size'] = 14\n",
    "plt.rcParams['font.weight'] = 'bold'\n",
    "\n",
    "# Get the data\n",
    "cursor.execute(\"SELECT DISTINCT project_id FROM routed\")\n",
    "data = np.array(cursor.fetchall()).astype('int32')\n",
    "ships = data[:, 0]\n",
    "\n",
    "\n",
    "# init lpo split\n",
    "p = 2 #ships\n",
    "lpo = LeavePOut(p)\n",
    "\n",
    "\n",
    "wk = 'pw'\n",
    "cursor.execute(\"UPDATE progress SET cables=0\")\n",
    "cursor.execute(\n",
    "    \"UPDATE progress SET progress.cables=t1.cables FROM\"\n",
    "    \" (SELECT project_id, {}, sum(amount) as cables FROM ship_readiness GROUP BY project_id, {}) t1\"\n",
    "    \" WHERE t1.project_id=progress.project_id AND t1.{}=progress.wk\".format(wk, wk, wk)\n",
    ")\n",
    "cursor.commit()\n",
    "\n",
    "ship_data = {}\n",
    "for ship in ships:\n",
    "    cursor.execute(\"SELECT wk, cables FROM progress WHERE project_id={} and cables > 100 ORDER BY wk\".format(ship))\n",
    "    data = cursor.fetchall()\n",
    "    ship_data[ship] = np.array(data)\n",
    "\n",
    "for ship in ships:\n",
    "    x = ship_data[ship][:, 0]\n",
    "    y = ship_data[ship][:, 1].cumsum()\n",
    "    goal = y[-1]\n",
    "    for wk in np.arange(-100, 1):\n",
    "        try:\n",
    "            cut = np.argwhere(x <= wk)[-1][0] + 1\n",
    "        except IndexError:\n",
    "            continue\n",
    "        xx = x[:cut]\n",
    "        yy = y[:cut]\n",
    "        if (goal - yy[-1]) < 0.01*goal: continue\n",
    "        plt.plot([-100, 0], [goal, goal])\n",
    "        try:\n",
    "            params, _ = curve_fit(logifunc, xx, yy, bounds=([-100, 1e-3, goal-1, 1e-4], [-10, 2, goal+1, 100]))\n",
    "        except ValueError:\n",
    "            continue\n",
    "\n",
    "        clear_output(wait=True)\n",
    "        plt.plot(x, y, 'kx')\n",
    "        plt.plot(xx, yy, 'rx')\n",
    "        plt.plot(x[cut:], logifunc(x[cut:], *params))\n",
    "        plt.ylim([0, 3e6])\n",
    "        plt.pause(0.1)\n",
    "        plt.cla()\n",
    "        \n",
    "\n"
   ]
  }
 ],
 "metadata": {
  "interpreter": {
   "hash": "c0b19f2120ef3124c13ef286ebe522ac06f45b032087a286eca843495c1a56b0"
  },
  "kernelspec": {
   "display_name": "Python 3.9.4 64-bit (system)",
   "name": "python3"
  },
  "language_info": {
   "codemirror_mode": {
    "name": "ipython",
    "version": 3
   },
   "file_extension": ".py",
   "mimetype": "text/x-python",
   "name": "python",
   "nbconvert_exporter": "python",
   "pygments_lexer": "ipython3",
   "version": "3.9.4"
  },
  "orig_nbformat": 4
 },
 "nbformat": 4,
 "nbformat_minor": 2
}
