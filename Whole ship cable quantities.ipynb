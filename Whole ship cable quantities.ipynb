{
 "cells": [
  {
   "cell_type": "code",
   "execution_count": 1,
   "metadata": {},
   "outputs": [
    {
     "name": "stdout",
     "output_type": "stream",
     "text": [
      "Database connection ok\n"
     ]
    }
   ],
   "source": [
    "import pyodbc\n",
    "from meyerDB import cable_connection\n",
    "import matplotlib.pyplot as plt\n",
    "import numpy as np\n",
    "from IPython.display import HTML, display\n",
    "from sklearn.model_selection import train_test_split\n",
    "from sklearn.model_selection import cross_val_score\n",
    "from sklearn.model_selection import LeavePOut\n",
    "from sklearn.metrics import mean_absolute_percentage_error as mape\n",
    "from sklearn import linear_model\n",
    "from sklearn.neighbors import KNeighborsRegressor\n",
    "from sklearn.dummy import DummyRegressor\n",
    "import sklearn.preprocessing as pp\n",
    "from sklearn.model_selection import GridSearchCV\n",
    "from copy import deepcopy\n",
    "\n",
    "# init db connection\n",
    "conn = pyodbc.connect(cable_connection)\n",
    "cursor = conn.cursor()\n",
    "print('Database connection ok')\n",
    "\n",
    "def display_table(data):\n",
    "    html = \"<table>\"\n",
    "    for row in data:\n",
    "        html += \"<tr>\"\n",
    "        for field in row:\n",
    "            try:\n",
    "                value = str(round(100*field, 1)).replace('.', ',') + '%'\n",
    "            except:\n",
    "                value = field\n",
    "            html += \"<td><h4>%s</h4><td>\"%(value)\n",
    "        html += \"</tr>\"\n",
    "    html += \"</table>\"\n",
    "    display(HTML(html))"
   ]
  },
  {
   "cell_type": "code",
   "execution_count": 2,
   "metadata": {},
   "outputs": [
    {
     "name": "stdout",
     "output_type": "stream",
     "text": [
      "Data array:  (11, 2)\n",
      "Features (11, 1)\n"
     ]
    },
    {
     "data": {
      "text/html": [
       "<table><tr><td><h4>Model</h4><td><td><h4>mean</h4><td><td><h4>std</h4><td><td><h4>min</h4><td><td><h4>max</h4><td></tr><tr><td><h4>Linear regression</h4><td><td><h4>7,1%</h4><td><td><h4>5,7%</h4><td><td><h4>1,2%</h4><td><td><h4>20,5%</h4><td></tr><tr><td><h4>KNN Regression</h4><td><td><h4>7,4%</h4><td><td><h4>16,2%</h4><td><td><h4>0,4%</h4><td><td><h4>115,8%</h4><td></tr><tr><td><h4>Mean</h4><td><td><h4>56,1%</h4><td><td><h4>41,0%</h4><td><td><h4>12,0%</h4><td><td><h4>196,3%</h4><td></tr></table>"
      ],
      "text/plain": [
       "<IPython.core.display.HTML object>"
      ]
     },
     "metadata": {},
     "output_type": "display_data"
    }
   ],
   "source": [
    "# Whole ship cable quantities\n",
    "# Predictors:\n",
    "# GT\n",
    "# Algorithms:\n",
    "# Linear regression\n",
    "# KNN regression\n",
    "# Mean\n",
    "\n",
    "# Get the data\n",
    "cursor.execute(\"SELECT gross_tonnage, sum(amount) FROM routed as r\"\n",
    "    \" LEFT JOIN projects as p ON p.project_id=r.project_id\"\n",
    "    \" GROUP BY r.project_id, gross_tonnage\")\n",
    "data = np.array(cursor.fetchall()).astype('float32')\n",
    "print('Data array: ', data.shape)\n",
    "X = data[:, 0].reshape((-1, 1))\n",
    "print('Features', X.shape)\n",
    "y = data[:, -1]\n",
    "\n",
    "\n",
    "# init lpo split\n",
    "p = 2 #ships\n",
    "lpo = LeavePOut(p)\n",
    "\n",
    "# init regression model\n",
    "models = dict()\n",
    "models['Linear regression'] = linear_model.LinearRegression()\n",
    "models['KNN Regression'] = KNeighborsRegressor()\n",
    "models['Mean'] = DummyRegressor(strategy='mean')\n",
    "\n",
    "scaler = pp.MinMaxScaler()\n",
    "\n",
    "# train and evaluate all models with lpo\n",
    "table_rows = [['Model', 'mean', 'std', 'min', 'max']]\n",
    "\n",
    "for model_name in models.keys():\n",
    "    model = models[model_name]\n",
    "    scores = []\n",
    "    for train_i, test_i in lpo.split(X):\n",
    "        if model_name == 'KNN Regression':\n",
    "            clf = GridSearchCV(model, {'n_neighbors':[1, 3, 5], 'weights': ['uniform', 'distance']}, cv=3)\n",
    "            X_train = deepcopy(scaler.fit_transform(X[train_i]))\n",
    "            clf.fit(X_train, y[train_i], )\n",
    "            X_test = deepcopy(scaler.transform(X[test_i])) #normalize features\n",
    "            preds = clf.predict(X_test)\n",
    "            scores.append(mape(y[test_i], preds))\n",
    "        else:\n",
    "            model.fit(X[train_i], y[train_i])\n",
    "            preds = model.predict(X[test_i])\n",
    "            scores.append(mape(y[test_i], preds))\n",
    "    scores = np.array(scores)\n",
    "    table_rows.append((model_name, scores.mean(), scores.std(), scores.min(), scores.max()))\n",
    "    with open(\"static_whole_ship_cable_quantities.txt\", \"a\") as file_object:\n",
    "        if model_name == 'Mean':\n",
    "            line = '-;Whole ship cable quantity;m;{};{};{};{};{}\\n'.format(model_name, scores.mean(), scores.std(), scores.min(), scores.max())\n",
    "        else:\n",
    "            line = 'GT;Whole ship cable quantity;m;{};{};{};{};{}\\n'.format(model_name, scores.mean(), scores.std(), scores.min(), scores.max())\n",
    "        file_object.write(line)\n",
    "display_table(table_rows)\n"
   ]
  },
  {
   "cell_type": "code",
   "execution_count": 3,
   "metadata": {},
   "outputs": [
    {
     "name": "stdout",
     "output_type": "stream",
     "text": [
      "Data array:  (11, 2)\n",
      "Features (11, 1)\n"
     ]
    },
    {
     "data": {
      "text/html": [
       "<table><tr><td><h4>Model</h4><td><td><h4>mean</h4><td><td><h4>std</h4><td><td><h4>min</h4><td><td><h4>max</h4><td></tr><tr><td><h4>Linear regression</h4><td><td><h4>11,0%</h4><td><td><h4>11,3%</h4><td><td><h4>0,7%</h4><td><td><h4>50,2%</h4><td></tr><tr><td><h4>KNN Regression</h4><td><td><h4>6,7%</h4><td><td><h4>15,4%</h4><td><td><h4>0,4%</h4><td><td><h4>109,1%</h4><td></tr></table>"
      ],
      "text/plain": [
       "<IPython.core.display.HTML object>"
      ]
     },
     "metadata": {},
     "output_type": "display_data"
    }
   ],
   "source": [
    "# Whole ship cable quantities\n",
    "# Predictors:\n",
    "# Ship squares\n",
    "# Algorithms:\n",
    "# Linear regression\n",
    "# KNN regression\n",
    "\n",
    "# Get the data\n",
    "cursor.execute(\"SELECT ship_squares , sum(amount) FROM routed as r\"\n",
    "    \" LEFT JOIN (SELECT project_id, sum(squares) as ship_squares FROM areas GROUP BY project_id) as a ON a.project_id=r.project_id\"\n",
    "    \" GROUP BY r.project_id, ship_squares\")\n",
    "data = np.array(cursor.fetchall()).astype('float32')\n",
    "print('Data array: ', data.shape)\n",
    "X = data[:, 0].reshape((-1, 1))\n",
    "print('Features', X.shape)\n",
    "y = data[:, -1]\n",
    "\n",
    "\n",
    "# init lpo split\n",
    "p = 2 #ships\n",
    "lpo = LeavePOut(p)\n",
    "\n",
    "# init regression model\n",
    "models = dict()\n",
    "models['Linear regression'] = linear_model.LinearRegression()\n",
    "models['KNN Regression'] = KNeighborsRegressor()\n",
    "\n",
    "scaler = pp.MinMaxScaler()\n",
    "\n",
    "# train and evaluate all models with lpo\n",
    "table_rows = [['Model', 'mean', 'std', 'min', 'max']]\n",
    "for model_name in models.keys():\n",
    "    model = models[model_name]\n",
    "    scores = []\n",
    "    for train_i, test_i in lpo.split(X):\n",
    "        if model_name == 'KNN Regression':\n",
    "            clf = GridSearchCV(model, {'n_neighbors':[1, 3, 5], 'weights': ['uniform', 'distance']}, cv=3)\n",
    "            X_train = scaler.fit_transform(X[train_i])\n",
    "            clf.fit(X_train, y[train_i])\n",
    "            #print(clf.best_params_)\n",
    "            X_test = scaler.transform(X[test_i]) #normalize features\n",
    "            preds = clf.predict(X_test)\n",
    "            scores.append(mape(y[test_i], preds))\n",
    "        else:\n",
    "            model.fit(X[train_i], y[train_i])\n",
    "            preds = model.predict(X[test_i])\n",
    "            scores.append(mape(y[test_i], preds))\n",
    "    scores = np.array(scores)\n",
    "    table_rows.append((model_name, scores.mean(), scores.std(), scores.min(), scores.max()))\n",
    "    with open(\"static_whole_ship_cable_quantities.txt\", \"a\") as file_object:\n",
    "        line = 'Ship squares;Whole ship cable quantity;m;{};{};{};{};{}\\n'.format(model_name, scores.mean(), scores.std(), scores.min(), scores.max())\n",
    "        file_object.write(line)\n",
    "display_table(table_rows)\n",
    "\n"
   ]
  },
  {
   "cell_type": "code",
   "execution_count": 4,
   "metadata": {},
   "outputs": [
    {
     "name": "stdout",
     "output_type": "stream",
     "text": [
      "Data array:  (11, 3)\n",
      "Features (11, 2)\n"
     ]
    },
    {
     "data": {
      "text/html": [
       "<table><tr><td><h4>Model</h4><td><td><h4>mean</h4><td><td><h4>std</h4><td><td><h4>min</h4><td><td><h4>max</h4><td></tr><tr><td><h4>Linear regression</h4><td><td><h4>6,4%</h4><td><td><h4>3,7%</h4><td><td><h4>1,1%</h4><td><td><h4>18,2%</h4><td></tr><tr><td><h4>KNN Regression</h4><td><td><h4>9,2%</h4><td><td><h4>16,4%</h4><td><td><h4>0,4%</h4><td><td><h4>115,2%</h4><td></tr></table>"
      ],
      "text/plain": [
       "<IPython.core.display.HTML object>"
      ]
     },
     "metadata": {},
     "output_type": "display_data"
    }
   ],
   "source": [
    "# Whole ship cable quantities\n",
    "# Predictors:\n",
    "# GT\n",
    "# Ship squares\n",
    "# Algorithms:\n",
    "# Linear regression\n",
    "# KNN regression\n",
    "\n",
    "\n",
    "# Get the data\n",
    "cursor.execute(\"SELECT gross_tonnage, ship_squares , sum(amount) FROM routed as r\"\n",
    "    \" LEFT JOIN (SELECT project_id, sum(squares) as ship_squares FROM areas GROUP BY project_id) as a ON a.project_id=r.project_id\"\n",
    "    \" LEFT JOIN projects as p ON p.project_id=r.project_id\"\n",
    "    \" GROUP BY r.project_id, ship_squares, gross_tonnage\")\n",
    "data = np.array(cursor.fetchall()).astype('float32')\n",
    "print('Data array: ', data.shape)\n",
    "X = data[:, [0, 1]]\n",
    "print('Features', X.shape)\n",
    "y = data[:, -1]\n",
    "\n",
    "\n",
    "# init regression model\n",
    "models = dict()\n",
    "models['Linear regression'] = linear_model.LinearRegression()\n",
    "models['KNN Regression'] = KNeighborsRegressor()\n",
    "\n",
    "scaler = pp.MinMaxScaler()\n",
    "\n",
    "# train and evaluate all models with lpo\n",
    "table_rows = [['Model', 'mean', 'std', 'min', 'max']]\n",
    "for model_name in models.keys():\n",
    "    model = models[model_name]\n",
    "    scores = []\n",
    "    for train_i, test_i in lpo.split(X):\n",
    "        if model_name == 'KNN Regression':\n",
    "            clf = GridSearchCV(model, {'n_neighbors':[1, 3, 5], 'weights': ['uniform', 'distance']}, cv=3)\n",
    "            X_train = scaler.fit_transform(X[train_i])\n",
    "            clf.fit(X_train, y[train_i])\n",
    "            #print(clf.best_params_)\n",
    "            X_test = scaler.transform(X[test_i]) #normalize features\n",
    "            preds = clf.predict(X_test)\n",
    "            scores.append(mape(y[test_i], preds))\n",
    "        else:\n",
    "            model.fit(X[train_i], y[train_i])\n",
    "            preds = model.predict(X[test_i])\n",
    "            scores.append(mape(y[test_i], preds))\n",
    "    scores = np.array(scores)\n",
    "    table_rows.append((model_name, scores.mean(), scores.std(), scores.min(), scores.max()))\n",
    "    with open(\"static_whole_ship_cable_quantities.txt\", \"a\") as file_object:\n",
    "        line = 'GT, Ship squares;Whole ship cable quantity;m;{};{};{};{};{}\\n'.format(model_name, scores.mean(), scores.std(), scores.min(), scores.max())\n",
    "        file_object.write(line)\n",
    "display_table(table_rows)\n"
   ]
  },
  {
   "cell_type": "code",
   "execution_count": 11,
   "metadata": {},
   "outputs": [
    {
     "name": "stdout",
     "output_type": "stream",
     "text": [
      "Data array:  (11, 2)\n",
      "Features (11, 1)\n"
     ]
    },
    {
     "data": {
      "text/html": [
       "<table><tr><td><h4>Model</h4><td><td><h4>mean</h4><td><td><h4>std</h4><td><td><h4>min</h4><td><td><h4>max</h4><td></tr><tr><td><h4>Linear regression</h4><td><td><h4>8,3%</h4><td><td><h4>5,5%</h4><td><td><h4>0,6%</h4><td><td><h4>27,0%</h4><td></tr></table>"
      ],
      "text/plain": [
       "<IPython.core.display.HTML object>"
      ]
     },
     "metadata": {},
     "output_type": "display_data"
    }
   ],
   "source": [
    "# Whole ship cable quantities (pcs, for comparison)\n",
    "# Predictors:\n",
    "# GT\n",
    "# Algorithms:\n",
    "# Linear regression\n",
    "\n",
    "# Get the data\n",
    "cursor.execute(\"SELECT gross_tonnage, count(*) FROM routed as r\"\n",
    "    \" LEFT JOIN projects as p ON p.project_id=r.project_id\"\n",
    "    \" GROUP BY r.project_id, gross_tonnage\")\n",
    "data = np.array(cursor.fetchall()).astype('float32')\n",
    "print('Data array: ', data.shape)\n",
    "X = data[:, 0].reshape((-1, 1))\n",
    "print('Features', X.shape)\n",
    "y = data[:, -1]\n",
    "\n",
    "\n",
    "# init lpo split\n",
    "p = 2 #ships\n",
    "lpo = LeavePOut(p)\n",
    "\n",
    "# init regression model\n",
    "models = dict()\n",
    "models['Linear regression'] = linear_model.LinearRegression()\n",
    "\n",
    "# train and evaluate all models with lpo\n",
    "table_rows = [['Model', 'mean', 'std', 'min', 'max']]\n",
    "for model_name in models.keys():\n",
    "    model = models[model_name]\n",
    "    scores = []\n",
    "    for train_i, test_i in lpo.split(X):\n",
    "        model.fit(X[train_i], y[train_i])\n",
    "        preds = model.predict(X[test_i])\n",
    "        scores.append(mape(y[test_i], preds))\n",
    "    scores = np.array(scores)\n",
    "    table_rows.append((model_name, scores.mean(), scores.std(), scores.min(), scores.max()))\n",
    "    with open(\"static_whole_ship_cable_quantities.txt\", \"a\") as file_object:\n",
    "        line = 'GT;Whole ship cable quantity (for comparison);pcs;{};{};{};{};{}\\n'.format(model_name, scores.mean(), scores.std(), scores.min(), scores.max())\n",
    "        file_object.write(line)\n",
    "display_table(table_rows)\n"
   ]
  }
 ],
 "metadata": {
  "interpreter": {
   "hash": "c0b19f2120ef3124c13ef286ebe522ac06f45b032087a286eca843495c1a56b0"
  },
  "kernelspec": {
   "display_name": "Python 3.9.4 64-bit (system)",
   "name": "python3"
  },
  "language_info": {
   "codemirror_mode": {
    "name": "ipython",
    "version": 3
   },
   "file_extension": ".py",
   "mimetype": "text/x-python",
   "name": "python",
   "nbconvert_exporter": "python",
   "pygments_lexer": "ipython3",
   "version": "3.9.4"
  },
  "orig_nbformat": 4
 },
 "nbformat": 4,
 "nbformat_minor": 2
}
