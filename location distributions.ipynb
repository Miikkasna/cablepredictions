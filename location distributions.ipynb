{
 "cells": [
  {
   "cell_type": "code",
   "execution_count": 1,
   "source": [
    "import pyodbc\r\n",
    "from meyerDB import cable_connection\r\n",
    "import matplotlib.pyplot as plt\r\n",
    "import numpy as np\r\n",
    "from IPython.display import HTML, display\r\n",
    "from sklearn.model_selection import train_test_split\r\n",
    "from sklearn.model_selection import cross_val_score\r\n",
    "from sklearn.model_selection import LeavePOut\r\n",
    "from sklearn.metrics import mean_absolute_percentage_error as mape\r\n",
    "from sklearn import linear_model\r\n",
    "from sklearn.neighbors import KNeighborsRegressor\r\n",
    "import sklearn.preprocessing as pp\r\n",
    "\r\n",
    "# init db connection\r\n",
    "conn = pyodbc.connect(cable_connection)\r\n",
    "cursor = conn.cursor()\r\n",
    "print('Database connection ok')\r\n",
    "\r\n",
    "def display_table(data):\r\n",
    "    html = \"<table>\"\r\n",
    "    for row in data:\r\n",
    "        html += \"<tr>\"\r\n",
    "        for field in row:\r\n",
    "            try:\r\n",
    "                value = str(round(100*field, 1)).replace('.', ',') + '%'\r\n",
    "            except:\r\n",
    "                value = field\r\n",
    "            html += \"<td><h4>%s</h4><td>\"%(value)\r\n",
    "        html += \"</tr>\"\r\n",
    "    html += \"</table>\"\r\n",
    "    display(HTML(html))"
   ],
   "outputs": [
    {
     "output_type": "stream",
     "name": "stdout",
     "text": [
      "Database connection ok\n"
     ]
    }
   ],
   "metadata": {}
  },
  {
   "cell_type": "code",
   "execution_count": 14,
   "source": [
    "# Location distribution study\r\n",
    "# frames and decks\r\n",
    "\r\n",
    "\r\n",
    "# Get the data\r\n",
    "cursor.execute(\"SELECT r.project_id, gross_tonnage, sum(amount) FROM routed as r\"\r\n",
    "    \" LEFT JOIN projects as p ON p.project_id=r.project_id\"\r\n",
    "    \" GROUP BY r.project_id, gross_tonnage\")\r\n",
    "data = np.array(cursor.fetchall()).astype('float32')\r\n",
    "ships = data[:, 0]\r\n",
    "\r\n",
    "sections = []\r\n",
    "for i, ship in enumerate(ships):\r\n",
    "    sections.append([])\r\n",
    "    cursor.execute(\r\n",
    "        \" SELECT location_set.project_id, sum(amount)/totals.total as rel_quantity, \"\r\n",
    "        \"sum(amount) as quantity, x, y FROM location_set\"\r\n",
    "        \" LEFT JOIN (SELECT project_id, 2.0*sum(amount) as total FROM routed\"\r\n",
    "        \" WHERE frame1 IS NOT NULL AND frame2 IS NOT NULL AND deck1 IS NOT NULL AND deck2 IS NOT NULL\"\r\n",
    "        \" GROUP BY project_id) totals\"\r\n",
    "        \" ON totals.project_id=location_set.project_id\"\r\n",
    "        \" WHERE location_set.project_id={}\"\r\n",
    "        \" GROUP BY location_set.project_id, x, y, totals.total\"\r\n",
    "        \" ORDER BY y DESC, x\"\r\n",
    "                .format(ship)\r\n",
    "        )\r\n",
    "    data = np.array(cursor.fetchall())\r\n",
    "    data = data[:, 1].astype('float32')\r\n",
    "    for ii in range(data.shape[0]):\r\n",
    "        sections[i].append(data[ii])\r\n",
    "sections = np.array(sections)\r\n",
    "print(sections.shape)\r\n",
    "table_rows = [['', 'x1 (mean)','(std)', 'x2 (mean)','(std)', 'x3 mean','(std)',]]\r\n",
    "for i in range(3):\r\n",
    "    a = i*3\r\n",
    "    table_rows.append(\r\n",
    "        ['d' + str(3-i), \r\n",
    "        sections[:, 0+a].mean(), sections[:, 0+a].std(),\r\n",
    "        sections[:, 1+a].mean(), sections[:, 1+a].std(),\r\n",
    "        sections[:, 2+a].mean(), sections[:, 1+a].std()]\r\n",
    "        )\r\n",
    "\r\n",
    "display_table(table_rows)"
   ],
   "outputs": [
    {
     "output_type": "stream",
     "name": "stdout",
     "text": [
      "(11, 9)\n"
     ]
    },
    {
     "output_type": "display_data",
     "data": {
      "text/html": [
       "<table><tr><td><h4></h4><td><td><h4>x1 (mean)</h4><td><td><h4>(std)</h4><td><td><h4>x2 (mean)</h4><td><td><h4>(std)</h4><td><td><h4>x3 mean</h4><td><td><h4>(std)</h4><td></tr><tr><td><h4>d3</h4><td><td><h4>3,4%</h4><td><td><h4>0,8%</h4><td><td><h4>9,4%</h4><td><td><h4>3,9%</h4><td><td><h4>3,7%</h4><td><td><h4>3,9%</h4><td></tr><tr><td><h4>d2</h4><td><td><h4>10,3%</h4><td><td><h4>1,6%</h4><td><td><h4>21,1%</h4><td><td><h4>3,8%</h4><td><td><h4>11,1%</h4><td><td><h4>3,8%</h4><td></tr><tr><td><h4>d1</h4><td><td><h4>13,8%</h4><td><td><h4>3,5%</h4><td><td><h4>25,2%</h4><td><td><h4>3,8%</h4><td><td><h4>3,9%</h4><td><td><h4>3,8%</h4><td></tr></table>"
      ],
      "text/plain": [
       "<IPython.core.display.HTML object>"
      ]
     },
     "metadata": {}
    }
   ],
   "metadata": {}
  }
 ],
 "metadata": {
  "orig_nbformat": 4,
  "language_info": {
   "name": "python",
   "version": "3.9.4",
   "mimetype": "text/x-python",
   "codemirror_mode": {
    "name": "ipython",
    "version": 3
   },
   "pygments_lexer": "ipython3",
   "nbconvert_exporter": "python",
   "file_extension": ".py"
  },
  "kernelspec": {
   "name": "python3",
   "display_name": "Python 3.9.4 64-bit (system)"
  },
  "interpreter": {
   "hash": "c0b19f2120ef3124c13ef286ebe522ac06f45b032087a286eca843495c1a56b0"
  }
 },
 "nbformat": 4,
 "nbformat_minor": 2
}